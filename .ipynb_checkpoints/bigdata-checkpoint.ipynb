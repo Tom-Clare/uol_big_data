{
 "cells": [
  {
   "cell_type": "code",
   "execution_count": 21,
   "metadata": {},
   "outputs": [],
   "source": [
    "import findspark\n",
    "\n",
    "findspark.init()\n",
    "\n",
    "import pyspark\n",
    "from pyspark.sql import SparkSession\n",
    "\n",
    "spark = SparkSession.builder.getOrCreate()\n",
    "\n",
    "import pandas as pd\n",
    "\n",
    "from pyspark.sql.functions import isnan, when, count"
   ]
  },
  {
   "cell_type": "code",
   "execution_count": 28,
   "metadata": {
    "scrolled": false
   },
   "outputs": [],
   "source": [
    "df = spark.read.csv(\"nuclear_plants_small_dataset.csv\", inferSchema=True, header=True)\n",
    "df = df.toDF('Status', 'PoRS1', 'PoRS2', 'PoRS3', 'PoRS4', 'PrS1', 'PrS2', 'PrS3', 'PrS4', 'VS1', 'VS2', 'VS3', 'VS4')"
   ]
  },
  {
   "cell_type": "code",
   "execution_count": 29,
   "metadata": {},
   "outputs": [
    {
     "name": "stdout",
     "output_type": "stream",
     "text": [
      "root\n",
      " |-- Status: string (nullable = true)\n",
      " |-- PoRS1: double (nullable = true)\n",
      " |-- PoRS2: double (nullable = true)\n",
      " |-- PoRS3: double (nullable = true)\n",
      " |-- PoRS4: double (nullable = true)\n",
      " |-- PrS1: double (nullable = true)\n",
      " |-- PrS2: double (nullable = true)\n",
      " |-- PrS3: double (nullable = true)\n",
      " |-- PrS4: double (nullable = true)\n",
      " |-- VS1: double (nullable = true)\n",
      " |-- VS2: double (nullable = true)\n",
      " |-- VS3: double (nullable = true)\n",
      " |-- VS4: double (nullable = true)\n",
      "\n"
     ]
    },
    {
     "data": {
      "text/plain": [
       "996"
      ]
     },
     "execution_count": 29,
     "metadata": {},
     "output_type": "execute_result"
    }
   ],
   "source": [
    "df.printSchema()\n",
    "df.count()"
   ]
  },
  {
   "cell_type": "code",
   "execution_count": 30,
   "metadata": {},
   "outputs": [
    {
     "name": "stdout",
     "output_type": "stream",
     "text": [
      "+------+-----+-----+-----+-----+----+----+----+----+---+---+---+---+\n",
      "|Status|PoRS1|PoRS2|PoRS3|PoRS4|PrS1|PrS2|PrS3|PrS4|VS1|VS2|VS3|VS4|\n",
      "+------+-----+-----+-----+-----+----+----+----+----+---+---+---+---+\n",
      "|     0|    0|    0|    0|    0|   0|   0|   0|   0|  0|  0|  0|  0|\n",
      "+------+-----+-----+-----+-----+----+----+----+----+---+---+---+---+\n",
      "\n"
     ]
    }
   ],
   "source": [
    "# Count non-numbers in all columns\n",
    "df.select([count(when(isnan(c), c)).alias(c) for c in df.columns]).show()"
   ]
  },
  {
   "cell_type": "code",
   "execution_count": 41,
   "metadata": {},
   "outputs": [
    {
     "name": "stdout",
     "output_type": "stream",
     "text": [
      "+------+------+------+------+------+-------+------+------+------+-------+-------+-------+-------+\n",
      "|Status| PoRS1| PoRS2| PoRS3| PoRS4|   PrS1|  PrS2|  PrS3|  PrS4|    VS1|    VS2|    VS3|    VS4|\n",
      "+------+------+------+------+------+-------+------+------+------+-------+-------+-------+-------+\n",
      "|Normal|4.5044|0.7443|  6.34|1.9052|29.5315|0.8647|2.2044| 6.048|14.4659| 21.648|15.3429| 1.2186|\n",
      "|Normal|4.4284|0.9073|5.6433|1.6232|27.5032|1.4704|1.9929|5.9856|20.8356| 0.0646|14.8813| 7.3483|\n",
      "|Normal|4.5291|1.0199| 6.113|1.0565|26.4271|1.9247| 1.942|6.7162| 5.3358|11.0779|25.0914| 9.2408|\n",
      "|Normal|5.1727|1.0007|7.8589|0.2765|25.1576| 2.609|2.9234|6.7485| 1.9017| 1.8463| 28.664| 4.0157|\n",
      "|Normal|5.2258|0.6125|7.9504|0.1547|24.0765|3.2113|4.4563|5.8411| 0.5077|   9.37|34.8122|13.4966|\n",
      "|Normal|4.8834|0.5786|5.6021|0.5942|21.0365|2.6275|4.3996|5.3487| 3.6465| 9.3793|36.2431| 11.124|\n",
      "|Normal|5.7422|0.8862|5.1013|0.9402|15.5171|  2.92|2.7061|5.0366| 9.1854| 9.1116|27.3162| 2.8526|\n",
      "|Normal|6.5076|0.5438| 7.153|0.6711|11.1481|4.2967|3.5731|4.6123|14.7705| 8.0038|24.9714| 2.1417|\n",
      "|Normal| 5.625|0.0403|7.7087|0.3214| 8.7975|2.3293| 4.788| 5.203| 4.3388| 2.4187|20.9187| 2.1233|\n",
      "|Normal|4.9942|0.4092|6.2604|0.6931|  6.189|0.1537|2.4934|5.6573| 9.8132|13.3581|23.5036| 0.7478|\n",
      "+------+------+------+------+------+-------+------+------+------+-------+-------+-------+-------+\n",
      "only showing top 10 rows\n",
      "\n",
      "+-----------------+\n",
      "|  variance(PoRS1)|\n",
      "+-----------------+\n",
      "|8.374354492436746|\n",
      "+-----------------+\n",
      "\n",
      "+-----------------+-----------------+\n",
      "|       avg(PoRS2)|       avg(PoRS1)|\n",
      "+-----------------+-----------------+\n",
      "|5.914042891566265|4.396694975903612|\n",
      "+-----------------+-----------------+\n",
      "\n"
     ]
    }
   ],
   "source": [
    "df.show(10);\n",
    "df_nom_PoRS1 = df.filter(df[\"Status\"] == \"Normal\").agg({\"PoRS1\" : \"min\", \"PoRS1\": \"max\", \"PoRS1\": \"mean\", \"PoRS1\": \"variance\"});\n",
    "df_abnom_avg = df.filter(df[\"Status\"] == \"Abnormal\").agg({\"PoRS1\" : \"avg\", \"PoRS2\": \"avg\"});\n",
    "df_nom_PoRS1.show();\n",
    "df_abnom_avg.show();"
   ]
  },
  {
   "cell_type": "code",
   "execution_count": null,
   "metadata": {},
   "outputs": [],
   "source": []
  }
 ],
 "metadata": {
  "kernelspec": {
   "display_name": "bigdata_env",
   "language": "python",
   "name": "bigdata_env"
  },
  "language_info": {
   "codemirror_mode": {
    "name": "ipython",
    "version": 3
   },
   "file_extension": ".py",
   "mimetype": "text/x-python",
   "name": "python",
   "nbconvert_exporter": "python",
   "pygments_lexer": "ipython3",
   "version": "3.8.0"
  }
 },
 "nbformat": 4,
 "nbformat_minor": 2
}
