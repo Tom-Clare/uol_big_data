{
 "cells": [
  {
   "cell_type": "code",
   "execution_count": 23,
   "metadata": {},
   "outputs": [],
   "source": [
    "import findspark\n",
    "\n",
    "findspark.init()\n",
    "\n",
    "import pyspark\n",
    "from pyspark.sql import SparkSession\n",
    "\n",
    "spark = SparkSession.builder.getOrCreate()\n",
    "\n",
    "import pandas as pd\n",
    "\n",
    "from pyspark.sql.functions import isnan, when, count"
   ]
  },
  {
   "cell_type": "code",
   "execution_count": 30,
   "metadata": {
    "scrolled": false
   },
   "outputs": [],
   "source": [
    "df = spark.read.csv(\"nuclear_plants_small_dataset.csv\", inferSchema=True, header=True)\n",
    "df = df.toDF('Status', 'PoRS1', 'PoRS2', 'PoRS3', 'PoRS4', 'PrS1', 'PrS2', 'PrS3', 'PrS4', 'VS1', 'VS2', 'VS3', 'VS4')"
   ]
  },
  {
   "cell_type": "code",
   "execution_count": 31,
   "metadata": {},
   "outputs": [
    {
     "name": "stdout",
     "output_type": "stream",
     "text": [
      "root\n",
      " |-- Status: string (nullable = true)\n",
      " |-- PoRS1: double (nullable = true)\n",
      " |-- PoRS2: double (nullable = true)\n",
      " |-- PoRS3: double (nullable = true)\n",
      " |-- PoRS4: double (nullable = true)\n",
      " |-- PrS1: double (nullable = true)\n",
      " |-- PrS2: double (nullable = true)\n",
      " |-- PrS3: double (nullable = true)\n",
      " |-- PrS4: double (nullable = true)\n",
      " |-- VS1: double (nullable = true)\n",
      " |-- VS2: double (nullable = true)\n",
      " |-- VS3: double (nullable = true)\n",
      " |-- VS4: double (nullable = true)\n",
      "\n"
     ]
    },
    {
     "data": {
      "text/plain": [
       "996"
      ]
     },
     "execution_count": 31,
     "metadata": {},
     "output_type": "execute_result"
    }
   ],
   "source": [
    "df.printSchema()\n",
    "df.count()"
   ]
  },
  {
   "cell_type": "code",
   "execution_count": 35,
   "metadata": {},
   "outputs": [
    {
     "name": "stdout",
     "output_type": "stream",
     "text": [
      "+------+-----+-----+-----+-----+----+----+----+----+---+---+---+---+\n",
      "|Status|PoRS1|PoRS2|PoRS3|PoRS4|PrS1|PrS2|PrS3|PrS4|VS1|VS2|VS3|VS4|\n",
      "+------+-----+-----+-----+-----+----+----+----+----+---+---+---+---+\n",
      "|     0|    0|    0|    0|    0|   0|   0|   0|   0|  0|  0|  0|  0|\n",
      "+------+-----+-----+-----+-----+----+----+----+----+---+---+---+---+\n",
      "\n"
     ]
    }
   ],
   "source": [
    "# Count non-numbers in all columns\n",
    "df.select([count(when(isnan(c), c)).alias(c) for c in df.columns]).show()"
   ]
  },
  {
   "cell_type": "code",
   "execution_count": null,
   "metadata": {},
   "outputs": [],
   "source": []
  }
 ],
 "metadata": {
  "kernelspec": {
   "display_name": "bigdata_env",
   "language": "python",
   "name": "bigdata_env"
  },
  "language_info": {
   "codemirror_mode": {
    "name": "ipython",
    "version": 3
   },
   "file_extension": ".py",
   "mimetype": "text/x-python",
   "name": "python",
   "nbconvert_exporter": "python",
   "pygments_lexer": "ipython3",
   "version": "3.8.0"
  }
 },
 "nbformat": 4,
 "nbformat_minor": 2
}
